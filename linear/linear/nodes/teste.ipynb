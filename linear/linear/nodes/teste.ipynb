{
 "cells": [
  {
   "cell_type": "code",
   "execution_count": null,
   "id": "8f320235",
   "metadata": {},
   "outputs": [],
   "source": [
    "# API Call Informação sobre outputs de uma run\n",
    "\n",
    "    # API Key\n",
    "    # Endpoint\n",
    "\n",
    "# Env (UAT, PROD)\n",
    "# Workspace\n",
    "# Run ID\n",
    "# Node ID\n"
   ]
  },
  {
   "cell_type": "code",
   "execution_count": null,
   "id": "3a7e8704",
   "metadata": {},
   "outputs": [],
   "source": []
  }
 ],
 "metadata": {
  "language_info": {
   "name": "python"
  }
 },
 "nbformat": 4,
 "nbformat_minor": 5
}
